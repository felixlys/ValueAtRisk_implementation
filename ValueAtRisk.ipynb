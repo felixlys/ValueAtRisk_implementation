{
  "nbformat": 4,
  "nbformat_minor": 0,
  "metadata": {
    "colab": {
      "provenance": [],
      "authorship_tag": "ABX9TyOLEYBap6HwUbiY8xzieMWQ",
      "include_colab_link": true
    },
    "kernelspec": {
      "name": "python3",
      "display_name": "Python 3"
    },
    "language_info": {
      "name": "python"
    }
  },
  "cells": [
    {
      "cell_type": "markdown",
      "metadata": {
        "id": "view-in-github",
        "colab_type": "text"
      },
      "source": [
        "<a href=\"https://colab.research.google.com/github/felixlys/ValueAtRisk_implementation/blob/main/ValueAtRisk.ipynb\" target=\"_parent\"><img src=\"https://colab.research.google.com/assets/colab-badge.svg\" alt=\"Open In Colab\"/></a>"
      ]
    },
    {
      "cell_type": "markdown",
      "source": [
        "# Penerapan Value at Risk (VaR) untuk memilih investasi saham yang memiliki resiko terkecil.\n",
        "\n",
        "\n",
        "Misalkan seorang investor ingin menginvestasikan uang sebesar 1 Miliar Rupiah untuk membeli saham/kepemilikan salah satu dari tiga saham perusahaan perbankan di Indonesia, sebagai berikut :\n",
        "\n",
        "1. Bank Rakyat Indonesia (BBRI.JK)\n",
        "2. Bank Central Asia (BBCA.JK)\n",
        "3. Bank Negara Indonesia (BBNIP.JK)\n",
        "\n",
        "Untuk membuat keputusan investasi yang tepat, investor perlu mengukur risiko yang terkait dengan masing-masing saham. Salah satu statistik yang sering digunakan untuk mengukur risiko ini adalah Value at Risk (VaR), dengan definisi sebagai berikut ⁉\n",
        "\n",
        "**Definisi 1 :** Misalkan $L$ merupakan return acak dari suatu investasi yang memiliki distribusi probabilitas tertentu, maka statistik Value At Risk (VaR) merupakan nilai yang memenuhi Persamaan berikut :\n",
        "\\begin{equation}\n",
        "P(-L>VaR)=1\\%\n",
        "\\end{equation}\n",
        "dengan $-L$ menyatakan besar nilai kerugian (dengan nilai kerugian akan bernilai positif dan keuntungan menjadi negatif).\n",
        "\n",
        "\n",
        "**Catatan :**Perhatikan jika rata-rata dari $L$ adalah $\\mu$ maka rata-rata dari $-L$ adalah $-\\mu$."
      ],
      "metadata": {
        "id": "AUFZOqHuqNVw"
      }
    },
    {
      "cell_type": "markdown",
      "source": [
        "Untuk mengimplementasikan Formula untuk menghitung VaR, pertama tama akan didapatkan data return dari masing-masing saham."
      ],
      "metadata": {
        "id": "TYJOBeu_Hf-E"
      }
    },
    {
      "cell_type": "code",
      "execution_count": null,
      "metadata": {
        "id": "rsxxnjMQ5c2s",
        "colab": {
          "base_uri": "https://localhost:8080/"
        },
        "outputId": "6caddd8c-a2ef-4f20-ae1c-15f9c25611d1"
      },
      "outputs": [
        {
          "output_type": "stream",
          "name": "stderr",
          "text": [
            "[*********************100%%**********************]  3 of 3 completed\n"
          ]
        }
      ],
      "source": [
        "import numpy as np\n",
        "import yfinance as yf\n",
        "daftar=['BBRI.JK','BBCA.JK','BBNI.JK']\n",
        "data = yf.download(daftar,'2023-1-1','2024-1-1')['Adj Close']\n",
        "#Menjadikan data harga saham menjadi array\n",
        "BBCAP=np.array(data['BBCA.JK'])\n",
        "BBNIP=np.array(data['BBNI.JK'])\n",
        "BBRIP=np.array(data['BBRI.JK'])\n",
        "#Susun suatu fungsi untuk mendapatkan return dari masing masing asset\n",
        "def LnRet(harga):\n",
        "    ret = np.zeros(len(harga) - 1)\n",
        "    for i in range(1, len(harga)):\n",
        "        ret[i-1] = np.log(harga[i] / harga[i-1])\n",
        "    return ret\n",
        "#Return dari investasi sebesar 1 miliar rupiah\n",
        "RetBBCAP=1000000000*LnRet(BBCAP)\n",
        "RetBBNIP=1000000000*LnRet(BBNIP)\n",
        "RetBBRIP=1000000000*LnRet(BBRIP)"
      ]
    },
    {
      "cell_type": "markdown",
      "source": [
        "Langkah selanjutnya adalah menguji kenormalan dari masing-masing Return Saham dengan uji Kolmogrov-Smirnov."
      ],
      "metadata": {
        "id": "U-ole0ueJi_e"
      }
    },
    {
      "cell_type": "code",
      "source": [
        "#BBCA\n",
        "import matplotlib.pyplot as plt\n",
        "import scipy.stats as stats\n",
        "#Uji Kolmogrov Smirnov (Kenormalan Data)\n",
        "ks_stat, ks_pvalue = stats.kstest(RetBBCAP, 'norm', args=(np.mean(RetBBCAP),np.var(RetBBCAP)))\n",
        "print(f\"Statistik Kolmogorov-Smirnov: {ks_stat}\")\n",
        "print(f\"Nilai p: {ks_pvalue}\")\n",
        "#plt.figure(figsize=(10,6))\n",
        "#plt.hist(RetBBCAP, bins=50, density=True, alpha=0.6, color='g', label='Histogram Return BBCA')"
      ],
      "metadata": {
        "colab": {
          "base_uri": "https://localhost:8080/"
        },
        "id": "GRNLzAXvK2Fp",
        "outputId": "80950d6f-119d-4b92-ec7f-707b89dcc96e"
      },
      "execution_count": null,
      "outputs": [
        {
          "output_type": "stream",
          "name": "stdout",
          "text": [
            "Statistik Kolmogorov-Smirnov: 0.4999998921065576\n",
            "Nilai p: 1.5199965173285187e-55\n"
          ]
        }
      ]
    },
    {
      "cell_type": "markdown",
      "source": [
        "Hasil uji Kolmogrov Smirnov menunjukkan bahwa nilai $p< 0.05$ yang artinya Hipotesis Nol\n",
        "\n",
        "$H_{0}:$ \"Data Return BBCA tidak berbeda secara signifikan dari distribusi normal dengan parameter mean dan varians yang sesuai dengan data return BBCA\"\n",
        "\n",
        "**DITOLAK**. Dengan kata lain, data Return BBCA tidak terdistribusi normal.\n",
        "\n",
        "\n",
        "Untuk itu, perlu dilakukan pembersihan data dari outlier yang terjadi dengan metode sebagai berikut :"
      ],
      "metadata": {
        "id": "QFsbvDcGMSuE"
      }
    },
    {
      "cell_type": "code",
      "source": [
        "#Cleaning Data\n",
        "#Kuartil 1 dan 3\n",
        "Q1BBCA=np.percentile(RetBBCAP,25)\n",
        "Q3BBCA=np.percentile(RetBBCAP,75)\n",
        "#Jarak Interkuartil\n",
        "IQRBBCA=Q3BBCA-Q1BBCA\n",
        "#Menentukan Batas Atas dan Batas Bawah Outlier\n",
        "bawahBBCA=Q1BBCA-1.5*IQRBBCA\n",
        "atasBBCA=Q3BBCA+1.5*IQRBBCA\n",
        "#Buang Data Outlier\n",
        "outlierBBCA=RetBBCAP[(RetBBCAP < bawahBBCA) | (RetBBCAP > atasBBCA)]\n",
        "RetBBCAP_1 =RetBBCAP[(RetBBCAP>= bawahBBCA) & (RetBBCAP<= atasBBCA)]"
      ],
      "metadata": {
        "id": "viYh-75ES4-J"
      },
      "execution_count": null,
      "outputs": []
    },
    {
      "cell_type": "code",
      "source": [
        "print(RetBBCAP_1.shape)"
      ],
      "metadata": {
        "colab": {
          "base_uri": "https://localhost:8080/"
        },
        "id": "LwrpKAZhX8fh",
        "outputId": "71e5226b-601f-4e36-eafd-c87fa9e48912"
      },
      "execution_count": null,
      "outputs": [
        {
          "output_type": "stream",
          "name": "stdout",
          "text": [
            "(224,)\n"
          ]
        }
      ]
    },
    {
      "cell_type": "code",
      "source": [
        "#Cek Kenormalan dengan Uji Kolmogrov Smirnov\n",
        "#BBCA\n",
        "import matplotlib.pyplot as plt\n",
        "import scipy.stats as stats\n",
        "#Uji Kolmogrov Smirnov (Kenormalan Data)\n",
        "ks_stat, ks_pvalue = stats.kstest(RetBBCAP_1, 'norm', args=(np.mean(RetBBCAP_1),np.var(RetBBCAP_1)))\n",
        "print(f\"Statistik Kolmogorov-Smirnov: {ks_stat}\")\n",
        "print(f\"Nilai p: {ks_pvalue}\")"
      ],
      "metadata": {
        "colab": {
          "base_uri": "https://localhost:8080/"
        },
        "id": "aIObtwmDVQhh",
        "outputId": "34b26863-f8f3-42fe-8ded-bc323131b516"
      },
      "execution_count": null,
      "outputs": [
        {
          "output_type": "stream",
          "name": "stdout",
          "text": [
            "Statistik Kolmogorov-Smirnov: 0.4999998824094689\n",
            "Nilai p: 2.6198917998437853e-52\n"
          ]
        }
      ]
    },
    {
      "cell_type": "markdown",
      "source": [
        "Adapun data yang di cleaning masih belum terdistribusi normal. Oleh karena itu, perlu dipertimbangkan distribusi lain selain Normal yakni t-Student dan distribusi Gamma. Dengan melakukan uji Kolmogrov-Smirnov akan diuji kesesuaian  Return BBCA dan dist t-student :"
      ],
      "metadata": {
        "id": "SnhRcAJHWVoP"
      }
    },
    {
      "cell_type": "code",
      "source": [
        "#Uji Kolmogrov Smirnov untuk data Return BBCA dan distribusi t-Student\n",
        "ks_stat, ks_pvalue = stats.kstest(RetBBCAP_1, 't', args=(223,))\n",
        "print(f\"Statistik Kolmogorov-Smirnov: {ks_stat}\")\n",
        "print(f\"Nilai p: {ks_pvalue}\")"
      ],
      "metadata": {
        "colab": {
          "base_uri": "https://localhost:8080/"
        },
        "id": "fEkMll0xWu1f",
        "outputId": "1544ea1c-84e8-450f-ec8a-19fe2d5c4e3f"
      },
      "execution_count": null,
      "outputs": [
        {
          "output_type": "stream",
          "name": "stdout",
          "text": [
            "Statistik Kolmogorov-Smirnov: 0.4375\n",
            "Nilai p: 1.5706510524869764e-39\n"
          ]
        }
      ]
    },
    {
      "cell_type": "markdown",
      "source": [
        "Masih belum sesuai dengan distribusi t-student.\n",
        "\n",
        "\n",
        "\n",
        "Selanjutnya, digunakan alternatif lain yakni dengan mentransformasikan data Return BBCA menjadi data yang terdistribusi normal standar yakni $Z\\sim N(0,1)$.\n",
        "\n",
        "**Definisi 2** (Teorema Limit Pusat) Misalkan $X_{i}$ merupakan data ke-$i$ untuk $i=1,2,3,4,\\cdots,n$ maka nilai dari $Z_{i}$ adalah sebagai berikut\n",
        "\\begin{equation}\n",
        "Z_{i}=\\frac{X_{i}-\\mu}{\\sigma}\n",
        "\\end{equation}\n",
        "dengan $\\mu$ adalah rata-rata data dan $\\sigma$ adalah simpangan baku data."
      ],
      "metadata": {
        "id": "j9mNvxLTo22R"
      }
    },
    {
      "cell_type": "code",
      "source": [
        "Z_RetBBCAP_1=(RetBBCAP_1-np.mean(RetBBCAP_1))/np.std(RetBBCAP_1)\n",
        "print(Z_RetBBCAP_1)"
      ],
      "metadata": {
        "id": "Ffxh_Ty5p-Li",
        "colab": {
          "base_uri": "https://localhost:8080/"
        },
        "outputId": "cd14533e-f6d0-4ae9-8fe0-b7d00ffc9903"
      },
      "execution_count": null,
      "outputs": [
        {
          "output_type": "stream",
          "name": "stdout",
          "text": [
            "[ 0.04173412 -1.35523837  0.74232425  2.11844389 -0.66958676  0.753055\n",
            " -1.74484735  1.47319334  2.50504755 -0.30697274  0.39044098 -0.30697274\n",
            " -1.01075216 -0.31122604  0.04173412  0.38325115 -0.6423229   0.37443147\n",
            "  1.6910905  -0.28625745  1.02295175 -0.93948352  0.69680543  1.01744696\n",
            " -0.93397873 -2.26739937  0.37443147  0.37349314 -0.62272226 -0.29193431\n",
            "  0.7080999  -0.62463167  1.37065786 -0.28906482 -1.96316864  0.3783082\n",
            " -1.99248847 -0.98890139  0.38629584  2.08792321  0.04173412 -1.66092118\n",
            "  1.40584995  0.04173412 -0.30697274  1.08474547  0.38733701  1.41388666\n",
            " -1.61232806 -0.29193431  0.37065571 -0.94786985  0.70241649 -0.28814975\n",
            " -0.6208227   0.37349243  0.70241649  0.37065571  1.02295022  0.36697822\n",
            "  1.01200209  0.36336941  1.31940127  0.99083542 -0.59013184 -1.23242283\n",
            "  0.04173412 -1.57091471  1.01200209  0.04173412  0.04173412 -0.92853385\n",
            "  0.04173412 -1.26472609 -0.28718748 -0.28814975 -0.95351962  1.03698785\n",
            "  0.04173412  1.64103657 -1.23593304  0.36247967  1.31589106  0.04173412\n",
            "  1.30202869 -2.4927174   1.94775702 -0.59013184 -0.59359413  0.35982702\n",
            " -0.27635879  0.67706237  0.04173412 -0.91257493 -0.27811378  0.04173412\n",
            " -0.60064674  0.68411497  0.99865571 -0.91518748  0.04173412  0.36158201\n",
            "  0.99604316 -0.91257493 -0.27811378  0.04173412  0.36158201 -0.59885934\n",
            "  0.36247967 -0.27901144  1.95299368 -0.59185829  0.99083542 -0.27377478\n",
            " -0.27462295  0.04173412  0.04173412 -0.59359413  0.67706237  2.54879651\n",
            " -1.51882225 -1.22200725  0.04173412  0.04173412  0.99083542  0.67016273\n",
            " -1.21856046  1.61499543 -0.89966124  2.53531666  0.04173412  0.04173412\n",
            " -0.57665199 -0.57996775  0.04173412 -0.58333183 -0.9022034   1.61073758\n",
            "  0.04173412 -1.21176045  0.98312947 -0.89966124  0.67016273 -0.5866945\n",
            " -0.27377478  0.67188308  0.04173412  0.04173412 -0.90477191  0.35809118\n",
            " -0.59185829  0.04173412 -0.27635879 -0.27724668  0.36071491 -1.23947543\n",
            "  0.04173412  1.00396287  0.99604316 -0.27550123 -0.59533958 -0.92049464\n",
            " -0.60421254 -0.93397721 -0.61333608  1.62790912  0.04173412 -1.54444089\n",
            " -0.59885934  0.36247967 -1.57091471  0.04173412  1.65438294  0.36158201\n",
            "  0.36071491 -1.88542209 -1.26105626 -1.27586099 -1.5844859  -0.94506249\n",
            "  1.35560977 -1.93469836 -0.2909628   2.02378445 -1.27586099 -1.96316516\n",
            "  0.69495907  1.97962705 -0.92316376  0.36425114  0.04173412 -2.23499406\n",
            "  0.69680431  0.69312413  1.65438294  0.36158201  0.04173412 -2.54215262\n",
            " -1.27214154  1.35560977  0.69312413  0.04173412 -0.6096559   0.04173412\n",
            "  0.36788002  1.01472917 -0.28169552  0.26931332 -0.28351222 -1.26841282\n",
            "  0.37065806 -0.94786356  0.04173412 -0.62272576 -0.29192256  2.26241267\n",
            " -0.27290816  0.67016715  0.66679186  0.3529977   0.04173412  0.66177801\n",
            "  0.35052323  0.04173412]\n"
          ]
        }
      ]
    },
    {
      "cell_type": "code",
      "source": [
        "print(np.mean(RetBBCAP_1))"
      ],
      "metadata": {
        "colab": {
          "base_uri": "https://localhost:8080/"
        },
        "id": "jPIF2zR0uVOv",
        "outputId": "a243929c-3382-44e5-d49d-b7a52aa03444"
      },
      "execution_count": null,
      "outputs": [
        {
          "output_type": "stream",
          "name": "stdout",
          "text": [
            "-359940.3666825982\n"
          ]
        }
      ]
    },
    {
      "cell_type": "code",
      "source": [
        "#Uji Kolmogrov Smirnov\n",
        "ks_stat, ks_pvalue = stats.kstest(Z_RetBBCAP_1, 'norm', args=(0,1))\n",
        "print(f\"Statistik Kolmogorov-Smirnov: {ks_stat}\")\n",
        "print(f\"Nilai p: {ks_pvalue}\")"
      ],
      "metadata": {
        "colab": {
          "base_uri": "https://localhost:8080/"
        },
        "id": "MZGrVO8yqtwU",
        "outputId": "edb88526-cfb4-41c3-bbbf-458654f5b351"
      },
      "execution_count": null,
      "outputs": [
        {
          "output_type": "stream",
          "name": "stdout",
          "text": [
            "Statistik Kolmogorov-Smirnov: 0.0791446715609555\n",
            "Nilai p: 0.11449598279572537\n"
          ]
        }
      ]
    },
    {
      "cell_type": "markdown",
      "source": [
        "Terbukti bahwa benar Data Return BBCA yang ditransformasikan menjadi nilai Z-Score terdistribusi normal dengan mean 0 dan varians 1.\n",
        "\n",
        "\n",
        "Selanjutnya, berdasarkan Definisi 1, Value At Risk dapat didefinisikan sebagai berikut\n",
        "\\begin{equation}\n",
        "P(-L>VaR)=0.01\n",
        "\\\\=P\\left(\\frac{-L-(-\\mu)}{\\sigma}>\\frac{VaR+\\mu}{\\sigma} \\right)\n",
        "\\\\=P\\left(Z>\\frac{VaR+\\mu}{\\sigma}\\right)\n",
        "\\\\=1-P\\left(Z\\leq\\frac{VaR+\\mu}{\\sigma}\\right)\n",
        "\\end{equation}\n",
        "sehingga\n",
        "\\begin{equation}\n",
        "P\\left(Z\\leq\\frac{VaR+\\mu}{\\sigma}\\right)=0.99\n",
        "\\end{equation}"
      ],
      "metadata": {
        "id": "oMlQhZGttdAl"
      }
    },
    {
      "cell_type": "code",
      "source": [
        "k = stats.norm.ppf(0.99)\n",
        "\n",
        "print(f\"Nilai k: {k}\")"
      ],
      "metadata": {
        "colab": {
          "base_uri": "https://localhost:8080/"
        },
        "id": "oSZfqgAivj1b",
        "outputId": "7cb8a016-7079-4d8f-e72b-ce00f285e689"
      },
      "execution_count": null,
      "outputs": [
        {
          "output_type": "stream",
          "name": "stdout",
          "text": [
            "Nilai k: 2.3263478740408408\n"
          ]
        }
      ]
    },
    {
      "cell_type": "markdown",
      "source": [
        "Didapat formula nilai VaR\n",
        "\\begin{equation}\n",
        "\\frac{VaR+\\mu}{\\sigma}=2.3263478740408408\\Rightarrow VaR=-\\mu+2.3263478740408408\\sigma.\n",
        "\\end{equation}"
      ],
      "metadata": {
        "id": "Y2O3a9GPwMYi"
      }
    },
    {
      "cell_type": "code",
      "source": [
        "#HitungVaR BBCA\n",
        "VaRBBCA=-1*np.mean(RetBBCAP_1)+k*np.std(RetBBCAP_1)\n",
        "print(VaRBBCA)"
      ],
      "metadata": {
        "colab": {
          "base_uri": "https://localhost:8080/"
        },
        "id": "aK2UocYJwjly",
        "outputId": "16a6c8d7-d785-4be3-9761-f7c21f527da7"
      },
      "execution_count": null,
      "outputs": [
        {
          "output_type": "stream",
          "name": "stdout",
          "text": [
            "20423777.432799198\n"
          ]
        }
      ]
    },
    {
      "cell_type": "markdown",
      "source": [
        "Adapun VaR pada BBCA adalah sebagai berikut ⁉\n",
        "\\begin{equation}\n",
        "VaR_{BBCA}=20423781\n",
        "\\end{equation}"
      ],
      "metadata": {
        "id": "wVkLrRbyxAeW"
      }
    },
    {
      "cell_type": "markdown",
      "source": [
        "Selanjutnya, digunakan formula yang sama untuk mendapatkan Value At Risk dari BBNI dan BBRI"
      ],
      "metadata": {
        "id": "H-kZ1xFaTxbA"
      }
    },
    {
      "cell_type": "code",
      "source": [
        "VaRBBNIP=-1*np.mean(RetBBNIP)+k*np.std(RetBBNIP)\n",
        "VaRBBRIP=-1*np.mean(RetBBRIP)+k*np.std(RetBBRIP)\n",
        "print(f\"Nilai VaR untuk BBNI={VaRBBNIP}\")\n",
        "print(f\"Nilai VaR untuk BBRI={VaRBBRIP}\")"
      ],
      "metadata": {
        "colab": {
          "base_uri": "https://localhost:8080/"
        },
        "id": "7nQrU4sIT-sZ",
        "outputId": "56b85abd-5352-4b2b-a359-a1a50803275c"
      },
      "execution_count": null,
      "outputs": [
        {
          "output_type": "stream",
          "name": "stdout",
          "text": [
            "Nilai VaR untuk BBNI=28863592.70404543\n",
            "Nilai VaR untuk BBRI=29678711.149665225\n"
          ]
        }
      ]
    },
    {
      "cell_type": "markdown",
      "source": [
        "Didapat nilai VaR untuk BBNI dan BBRI adalah sebagai berikut :\n",
        "\\begin{equation}\n",
        "VaR_{BBNI}=28863593\\\\\n",
        "VaR_{BBRI}=29678711.\n",
        "\\end{equation}"
      ],
      "metadata": {
        "id": "-Ou8C6DnWT-A"
      }
    },
    {
      "cell_type": "markdown",
      "source": [
        "Oleh karena itu, keputusan investasi yang diharapkan memiliki resiko terkecil adalah pembelian saham BBCA sebesar 1 Miliar Rupiah."
      ],
      "metadata": {
        "id": "M0iGIHkzZ_JN"
      }
    }
  ]
}